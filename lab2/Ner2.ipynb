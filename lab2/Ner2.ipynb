{
  "nbformat": 4,
  "nbformat_minor": 0,
  "metadata": {
    "colab": {
      "name": "Ner2.ipynb",
      "provenance": [],
      "collapsed_sections": [
        "oDBZU7yv8tip",
        "xfgEcLdy8v8y",
        "m-RPCguta42x"
      ]
    },
    "kernelspec": {
      "name": "python3",
      "display_name": "Python 3"
    },
    "language_info": {
      "name": "python"
    }
  },
  "cells": [
    {
      "cell_type": "markdown",
      "source": [
        "### Load data\n"
      ],
      "metadata": {
        "id": "gSx9VM35aGWS"
      }
    },
    {
      "cell_type": "code",
      "source": [
        "!pip install sklearn_crfsuite\n",
        "!pip install -U 'scikit-learn<0.24'\n",
        "!git clone -b master https://github.com/charles9n/bert-sklearn\n",
        "!pip install ./bert-sklearn/."
      ],
      "metadata": {
        "id": "26QytH2AHH4u"
      },
      "execution_count": null,
      "outputs": []
    },
    {
      "cell_type": "code",
      "execution_count": 3,
      "metadata": {
        "colab": {
          "base_uri": "https://localhost:8080/"
        },
        "id": "4JlC_nk1wNVI",
        "outputId": "48be9580-62fa-4c04-fed5-ca5a229b0302"
      },
      "outputs": [
        {
          "output_type": "stream",
          "name": "stdout",
          "text": [
            "Populating the interactive namespace from numpy and matplotlib\n"
          ]
        }
      ],
      "source": [
        "\n",
        "import pandas as pd\n",
        "%matplotlib notebook\n",
        "import matplotlib.pyplot as plt\n",
        "import tqdm\n",
        "import numpy as np\n",
        "from sklearn.feature_extraction import DictVectorizer\n",
        "from sklearn.feature_extraction.text import HashingVectorizer\n",
        "from sklearn.linear_model import Perceptron\n",
        "from sklearn.model_selection import train_test_split\n",
        "from sklearn.linear_model import SGDClassifier\n",
        "from sklearn.linear_model import PassiveAggressiveClassifier\n",
        "from sklearn.naive_bayes import MultinomialNB\n",
        "from sklearn.metrics import classification_report\n",
        "import sklearn_crfsuite\n",
        "from sklearn_crfsuite import scorers\n",
        "from sklearn_crfsuite import metrics\n",
        "from collections import Counter\n",
        "%pylab inline\n",
        "plt.style.use('dark_background')\n",
        "matplotlib.rcParams['figure.figsize'] = (16, 9)"
      ]
    },
    {
      "cell_type": "code",
      "source": [
        "from google.colab import drive\n",
        "drive.mount('/content/drive')"
      ],
      "metadata": {
        "colab": {
          "base_uri": "https://localhost:8080/"
        },
        "id": "28T8XOjwwP1_",
        "outputId": "2827cd41-1b2e-4284-8b25-808d7913079c"
      },
      "execution_count": 4,
      "outputs": [
        {
          "output_type": "stream",
          "name": "stdout",
          "text": [
            "Mounted at /content/drive\n"
          ]
        }
      ]
    },
    {
      "cell_type": "markdown",
      "source": [
        "Датесет в формате conll, можно распарсить предложения разбив по \\n\\n"
      ],
      "metadata": {
        "id": "MsT8Sa-naYff"
      }
    },
    {
      "cell_type": "code",
      "source": [
        "def preprocess_conll(text, sep=\"\\t\"):\n",
        "    text_list = text.split(\"\\n\\n\")\n",
        "    if text_list[-1] in (\" \", \"\"):\n",
        "        text_list = text_list[:-1]\n",
        "\n",
        "    max_seq_len = 0\n",
        "    sentence_list = []\n",
        "    for s in text_list:\n",
        "        # split each sentence string into \"word label\" pairs\n",
        "        s_split = s.split(\"\\n\")\n",
        "        # split \"word label\" pairs\n",
        "        s_split_split = [t.split(sep) for t in s_split]\n",
        "        sentence_list.append([tuple(x) for x in s_split_split if len(x[0]) > 0])\n",
        "\n",
        "        if len(s_split_split) > max_seq_len:\n",
        "            max_seq_len = len(s_split_split)\n",
        "    print(\"Maximum sequence length is: {0}\".format(max_seq_len))\n",
        "    return sentence_list\n",
        "\n",
        "\n",
        "def read_conll_file(file_path, sep=\"\\t\", encoding=None):\n",
        "    with open(file_path, encoding=encoding) as f:\n",
        "        data = f.read()\n",
        "    return preprocess_conll(data, sep=sep)\n",
        "train_sents = read_conll_file('drive/MyDrive/datasets/gum-train.conll')\n",
        "test_sents = read_conll_file('drive/MyDrive/datasets/gum-test.conll')\n",
        "train_sents[:2]"
      ],
      "metadata": {
        "colab": {
          "base_uri": "https://localhost:8080/"
        },
        "id": "QJNYjvsc1toI",
        "outputId": "594697cf-b703-4bc0-f8c4-48a2ae15968b"
      },
      "execution_count": 4,
      "outputs": [
        {
          "output_type": "stream",
          "name": "stdout",
          "text": [
            "Maximum sequence length is: 94\n",
            "Maximum sequence length is: 95\n"
          ]
        },
        {
          "output_type": "execute_result",
          "data": {
            "text/plain": [
              "[[('The', 'B-object'),\n",
              "  ('back', 'I-object'),\n",
              "  ('of', 'I-object'),\n",
              "  ('my', 'I-object'),\n",
              "  ('jersey', 'I-object'),\n",
              "  ('says', 'O'),\n",
              "  ('\"', 'B-abstract'),\n",
              "  ('The', 'I-abstract'),\n",
              "  ('Poet', 'I-abstract'),\n",
              "  (\"'\", 'I-abstract'),\n",
              "  ('because', 'O'),\n",
              "  ('growing', 'O'),\n",
              "  ('up', 'O'),\n",
              "  ('that', 'B-abstract'),\n",
              "  ('was', 'O'),\n",
              "  ('my', 'B-person'),\n",
              "  ('nickname', 'O'),\n",
              "  ('.', 'O')],\n",
              " [('These', 'B-place'),\n",
              "  ('hotels', 'I-place'),\n",
              "  ('may', 'O'),\n",
              "  ('not', 'O'),\n",
              "  ('be', 'O'),\n",
              "  ('the', 'O'),\n",
              "  ('most', 'O'),\n",
              "  ('luxerious', 'O'),\n",
              "  (',', 'O'),\n",
              "  ('but', 'O'),\n",
              "  ('they', 'O'),\n",
              "  ('do', 'O'),\n",
              "  ('provide', 'O'),\n",
              "  ('air-conditionting', 'B-abstract'),\n",
              "  (',', 'O'),\n",
              "  ('televisions', 'B-object'),\n",
              "  (',', 'O'),\n",
              "  ('and', 'O'),\n",
              "  ('refrigerators', 'B-object'),\n",
              "  ('in', 'O'),\n",
              "  ('all', 'B-place'),\n",
              "  ('of', 'I-place'),\n",
              "  ('the', 'I-place'),\n",
              "  ('rooms', 'I-place'),\n",
              "  ('.', 'O')]]"
            ]
          },
          "metadata": {},
          "execution_count": 4
        }
      ]
    },
    {
      "cell_type": "code",
      "source": [
        "colnames = ['word', 'tag']\n",
        "ds_train = pd.read_csv('drive/MyDrive/datasets/gum-train.conll', sep='\\t', names=colnames, header=None, quoting=3)\n",
        "ds_test = pd.read_csv('drive/MyDrive/datasets/gum-test.conll', sep='\\t', names=colnames, header=None, quoting=3)\n",
        "df = pd.concat((ds_train, ds_test))\n",
        "df.shape"
      ],
      "metadata": {
        "colab": {
          "base_uri": "https://localhost:8080/"
        },
        "id": "lptrpqqKxm-3",
        "outputId": "9a12eec1-f963-4154-a491-0c63d0021ca7"
      },
      "execution_count": 5,
      "outputs": [
        {
          "output_type": "execute_result",
          "data": {
            "text/plain": [
              "(62347, 2)"
            ]
          },
          "metadata": {},
          "execution_count": 5
        }
      ]
    },
    {
      "cell_type": "markdown",
      "source": [
        "### EDA"
      ],
      "metadata": {
        "id": "oDBZU7yv8tip"
      }
    },
    {
      "cell_type": "code",
      "source": [
        "ds_train.head(5)"
      ],
      "metadata": {
        "colab": {
          "base_uri": "https://localhost:8080/",
          "height": 206
        },
        "id": "qCOqc99izqFX",
        "outputId": "cd621ffc-2732-42c0-a179-cc627c5ee345"
      },
      "execution_count": 45,
      "outputs": [
        {
          "output_type": "execute_result",
          "data": {
            "text/html": [
              "<div>\n",
              "<style scoped>\n",
              "    .dataframe tbody tr th:only-of-type {\n",
              "        vertical-align: middle;\n",
              "    }\n",
              "\n",
              "    .dataframe tbody tr th {\n",
              "        vertical-align: top;\n",
              "    }\n",
              "\n",
              "    .dataframe thead th {\n",
              "        text-align: right;\n",
              "    }\n",
              "</style>\n",
              "<table border=\"1\" class=\"dataframe\">\n",
              "  <thead>\n",
              "    <tr style=\"text-align: right;\">\n",
              "      <th></th>\n",
              "      <th>word</th>\n",
              "      <th>tag</th>\n",
              "    </tr>\n",
              "  </thead>\n",
              "  <tbody>\n",
              "    <tr>\n",
              "      <th>0</th>\n",
              "      <td>The</td>\n",
              "      <td>B-object</td>\n",
              "    </tr>\n",
              "    <tr>\n",
              "      <th>1</th>\n",
              "      <td>back</td>\n",
              "      <td>I-object</td>\n",
              "    </tr>\n",
              "    <tr>\n",
              "      <th>2</th>\n",
              "      <td>of</td>\n",
              "      <td>I-object</td>\n",
              "    </tr>\n",
              "    <tr>\n",
              "      <th>3</th>\n",
              "      <td>my</td>\n",
              "      <td>I-object</td>\n",
              "    </tr>\n",
              "    <tr>\n",
              "      <th>4</th>\n",
              "      <td>jersey</td>\n",
              "      <td>I-object</td>\n",
              "    </tr>\n",
              "  </tbody>\n",
              "</table>\n",
              "</div>"
            ],
            "text/plain": [
              "     word       tag\n",
              "0     The  B-object\n",
              "1    back  I-object\n",
              "2      of  I-object\n",
              "3      my  I-object\n",
              "4  jersey  I-object"
            ]
          },
          "metadata": {},
          "execution_count": 45
        }
      ]
    },
    {
      "cell_type": "code",
      "source": [
        "df.isnull().sum()"
      ],
      "metadata": {
        "colab": {
          "base_uri": "https://localhost:8080/"
        },
        "id": "Dmp7inLh8etx",
        "outputId": "678c3c54-e42b-4359-a5f4-1c6ac99c29a7"
      },
      "execution_count": 44,
      "outputs": [
        {
          "output_type": "execute_result",
          "data": {
            "text/plain": [
              "word    0\n",
              "tag     0\n",
              "dtype: int64"
            ]
          },
          "metadata": {},
          "execution_count": 44
        }
      ]
    },
    {
      "cell_type": "code",
      "source": [
        "df['tag'].value_counts()"
      ],
      "metadata": {
        "colab": {
          "base_uri": "https://localhost:8080/"
        },
        "id": "T7JPaET-ym6n",
        "outputId": "dbce4880-2138-43ba-e7ee-ebb1918fa3d7"
      },
      "execution_count": 8,
      "outputs": [
        {
          "output_type": "execute_result",
          "data": {
            "text/plain": [
              "O                 29003\n",
              "I-abstract         6735\n",
              "I-event            3641\n",
              "I-place            3138\n",
              "B-abstract         2800\n",
              "B-person           2743\n",
              "I-person           2551\n",
              "I-object           2514\n",
              "B-place            1619\n",
              "B-object           1437\n",
              "B-event            1053\n",
              "I-time              905\n",
              "I-organization      830\n",
              "I-substance         641\n",
              "B-organization      589\n",
              "B-time              580\n",
              "B-substance         373\n",
              "I-quantity          280\n",
              "I-plant             222\n",
              "B-plant             206\n",
              "B-animal            183\n",
              "I-animal            163\n",
              "B-quantity          141\n",
              "Name: tag, dtype: int64"
            ]
          },
          "metadata": {},
          "execution_count": 8
        }
      ]
    },
    {
      "cell_type": "markdown",
      "source": [
        "Теги вполне сбалансированы, и тег О всего примерно 60 проц"
      ],
      "metadata": {
        "id": "XQFfKPCcafaY"
      }
    },
    {
      "cell_type": "code",
      "source": [
        "cnts = df['tag'].value_counts().drop('O')\n",
        "p = plt.pie(cnts.values, labels=cnts.index, autopct='%1.1f%%', startangle=90)"
      ],
      "metadata": {
        "colab": {
          "base_uri": "https://localhost:8080/",
          "height": 520
        },
        "id": "m-AxfOLvysk2",
        "outputId": "85f2eb08-fcc4-4af7-a371-87b2dee8dd34"
      },
      "execution_count": 9,
      "outputs": [
        {
          "output_type": "display_data",
          "data": {
            "image/png": "[encoded data removed]",
            "text/plain": [
              "<Figure size 1152x648 with 1 Axes>"
            ]
          },
          "metadata": {}
        }
      ]
    },
    {
      "cell_type": "markdown",
      "source": [
        "Остальные теги тоже вполне равномерно распределены"
      ],
      "metadata": {
        "id": "hQjh9goGayPQ"
      }
    },
    {
      "cell_type": "code",
      "source": [
        "words_counts = df[df['tag'] != 'O']['word'].value_counts()[:40].plot(kind='bar')"
      ],
      "metadata": {
        "colab": {
          "base_uri": "https://localhost:8080/",
          "height": 561
        },
        "id": "u1gkbmkNyvz3",
        "outputId": "9b67d0f3-4fd4-4c1f-8b4e-d3729cd58c92"
      },
      "execution_count": 10,
      "outputs": [
        {
          "output_type": "display_data",
          "data": {
            "image/png": "[encoded data removed]",
            "text/plain": [
              "<Figure size 1152x648 with 1 Axes>"
            ]
          },
          "metadata": {}
        }
      ]
    },
    {
      "cell_type": "markdown",
      "source": [
        "Посмотрим на наиболее частые слова и их теги"
      ],
      "metadata": {
        "id": "ypi7BnxKa7yh"
      }
    },
    {
      "cell_type": "code",
      "source": [
        "df[df['word'] == 'the']['tag'].value_counts().drop('O').plot(kind='bar')"
      ],
      "metadata": {
        "colab": {
          "base_uri": "https://localhost:8080/",
          "height": 600
        },
        "id": "DedHm0i3y1ju",
        "outputId": "660a73bc-911e-44bc-cec3-ac305eeebb74"
      },
      "execution_count": 11,
      "outputs": [
        {
          "output_type": "display_data",
          "data": {
            "image/png": "[encoded data removed]",
            "text/plain": [
              "<Figure size 1152x648 with 1 Axes>"
            ]
          },
          "metadata": {}
        }
      ]
    },
    {
      "cell_type": "code",
      "source": [
        "df[df['word'] == 'of']['tag'].value_counts().drop('O').plot(kind='bar')"
      ],
      "metadata": {
        "colab": {
          "base_uri": "https://localhost:8080/",
          "height": 596
        },
        "id": "xcWqEPr6y9Ef",
        "outputId": "9168105f-00f9-4667-a770-7cd1da0ffdb0"
      },
      "execution_count": 12,
      "outputs": [
        {
          "output_type": "display_data",
          "data": {
            "image/png": "[encoded data removed]",
            "text/plain": [
              "<Figure size 1152x648 with 1 Axes>"
            ]
          },
          "metadata": {}
        }
      ]
    },
    {
      "cell_type": "code",
      "source": [
        "words = list(df[df['tag'] != 'O']['word'].value_counts()[:20].index)\n",
        "df_m = df[df['tag'] != 'O']\n",
        "df_c = df_m[df_m['word'].isin(words)]\n",
        "df_c.shape\n",
        "values = list(df_c['tag'].value_counts().index)\n",
        "len(values)"
      ],
      "metadata": {
        "colab": {
          "base_uri": "https://localhost:8080/"
        },
        "id": "GCc9ILkJzA7H",
        "outputId": "29c04b91-1e1e-474a-d03d-8583c1b3bcc6"
      },
      "execution_count": 13,
      "outputs": [
        {
          "output_type": "execute_result",
          "data": {
            "text/plain": [
              "22"
            ]
          },
          "metadata": {},
          "execution_count": 13
        }
      ]
    },
    {
      "cell_type": "markdown",
      "source": [
        "Всего тегов 22"
      ],
      "metadata": {
        "id": "CDCH15cvbAVR"
      }
    },
    {
      "cell_type": "code",
      "source": [
        "def get_dict(listv):\n",
        "    return {x:i for i, x in enumerate(listv)}\n",
        "\n",
        "vd = get_dict(values)\n",
        "wd = get_dict(words)\n",
        "\n",
        "corr = np.zeros((len(words), len(values)))\n",
        "for _, row in df_c.iterrows():\n",
        "    corr[wd[row['word']], vd[row['tag']]] += 1\n",
        "import seaborn as sns\n",
        "sns.heatmap(corr, \n",
        "            xticklabels=values,\n",
        "            yticklabels=words)"
      ],
      "metadata": {
        "colab": {
          "base_uri": "https://localhost:8080/",
          "height": 617
        },
        "id": "hfwkiTFIzCbX",
        "outputId": "dffee05b-60a1-4447-f634-055ba4aff3f6"
      },
      "execution_count": 14,
      "outputs": [
        {
          "output_type": "execute_result",
          "data": {
            "text/plain": [
              "<matplotlib.axes._subplots.AxesSubplot at 0x7f07e311cc10>"
            ]
          },
          "metadata": {},
          "execution_count": 14
        },
        {
          "output_type": "display_data",
          "data": {
            "image/png": "[encoded data removed]",
            "text/plain": [
              "<Figure size 1152x648 with 2 Axes>"
            ]
          },
          "metadata": {}
        }
      ]
    },
    {
      "cell_type": "markdown",
      "source": [
        "Как видно многие слова принадлежат сразу множеству тего, поэтому простая модель слово-тег вряд ли даст хороший результат"
      ],
      "metadata": {
        "id": "8h8FB9FybChx"
      }
    },
    {
      "cell_type": "markdown",
      "source": [
        "###Baseline sklearn\n"
      ],
      "metadata": {
        "id": "xfgEcLdy8v8y"
      }
    },
    {
      "cell_type": "code",
      "source": [
        "v = DictVectorizer(sparse=False)\n",
        "v.fit(df.to_dict('records'))\n",
        "X_train = v.transform(ds_train.drop('tag', axis=1).to_dict('records'))\n",
        "X_test = v.transform(ds_test.drop('tag', axis=1).to_dict('records'))\n",
        "print(X_train.shape, X_test.shape)\n",
        "\n",
        "y_train = ds_train.tag.values\n",
        "y_test = ds_test.tag.values\n",
        "classes = np.unique(df.tag.values)\n",
        "classes = classes.tolist()"
      ],
      "metadata": {
        "colab": {
          "base_uri": "https://localhost:8080/"
        },
        "id": "CjF6ZCRJ80FS",
        "outputId": "60c4fe0f-27a6-47a5-cbe4-963f4480d181"
      },
      "execution_count": 12,
      "outputs": [
        {
          "output_type": "stream",
          "name": "stdout",
          "text": [
            "(44111, 9809) (18236, 9809)\n"
          ]
        }
      ]
    },
    {
      "cell_type": "code",
      "source": [
        "classes = np.unique(df.tag.values)\n",
        "classes = classes.tolist()"
      ],
      "metadata": {
        "id": "okpArshNdtiR"
      },
      "execution_count": 43,
      "outputs": []
    },
    {
      "cell_type": "code",
      "source": [
        "new_classes = classes.copy()\n",
        "new_classes.pop()"
      ],
      "metadata": {
        "colab": {
          "base_uri": "https://localhost:8080/",
          "height": 35
        },
        "id": "XU-scKQv99ba",
        "outputId": "7749fc6b-5678-4581-b427-9b74e70733dc"
      },
      "execution_count": 13,
      "outputs": [
        {
          "output_type": "execute_result",
          "data": {
            "application/vnd.google.colaboratory.intrinsic+json": {
              "type": "string"
            },
            "text/plain": [
              "'O'"
            ]
          },
          "metadata": {},
          "execution_count": 13
        }
      ]
    },
    {
      "cell_type": "markdown",
      "source": [
        "Построим несколько простых моделек слово-тег"
      ],
      "metadata": {
        "id": "YA2mpLstbdIR"
      }
    },
    {
      "cell_type": "code",
      "source": [
        "per = Perceptron(verbose=10, n_jobs=-1, max_iter=5)\n",
        "per.partial_fit(X_train, y_train, classes)\n",
        "print(classification_report(y_pred=per.predict(X_test), y_true=y_test, labels=new_classes))"
      ],
      "metadata": {
        "colab": {
          "base_uri": "https://localhost:8080/"
        },
        "id": "Sz2BeLVR93Za",
        "outputId": "74001d0a-2daf-4a6e-f453-092c089c4605"
      },
      "execution_count": 58,
      "outputs": [
        {
          "output_type": "stream",
          "name": "stderr",
          "text": [
            "[Parallel(n_jobs=-1)]: Using backend ThreadingBackend with 2 concurrent workers.\n"
          ]
        },
        {
          "output_type": "stream",
          "name": "stdout",
          "text": [
            "-- Epoch 1\n",
            "-- Epoch 1\n",
            "Norm: 9.95, NNZs: 69, Bias: -1.000000, T: 44111, Avg. loss: 0.005101\n",
            "Total training time: 1.16 seconds.\n",
            "-- Epoch 1\n",
            "Norm: 34.29, NNZs: 930, Bias: 0.000000, T: 44111, Avg. loss: 0.072408\n",
            "Total training time: 1.30 seconds.\n",
            "-- Epoch 1\n"
          ]
        },
        {
          "output_type": "stream",
          "name": "stderr",
          "text": [
            "[Parallel(n_jobs=-1)]: Done   1 tasks      | elapsed:    1.2s\n"
          ]
        },
        {
          "output_type": "stream",
          "name": "stdout",
          "text": [
            "Norm: 20.35, NNZs: 362, Bias: -2.000000, T: 44111, Avg. loss: 0.028315\n",
            "Total training time: 1.05 seconds.\n",
            "-- Epoch 1\n",
            "Norm: 25.96, NNZs: 576, Bias: -2.000000, T: 44111, Avg. loss: 0.036884\n",
            "Total training time: 1.06 seconds.\n",
            "-- Epoch 1\n"
          ]
        },
        {
          "output_type": "stream",
          "name": "stderr",
          "text": [
            "[Parallel(n_jobs=-1)]: Done   4 tasks      | elapsed:    2.4s\n"
          ]
        },
        {
          "output_type": "stream",
          "name": "stdout",
          "text": [
            "Norm: 16.37, NNZs: 215, Bias: -2.000000, T: 44111, Avg. loss: 0.013874\n",
            "Total training time: 0.94 seconds.\n",
            "-- Epoch 1\n",
            "Norm: 33.38, NNZs: 806, Bias: -2.000000, T: 44111, Avg. loss: 0.041464\n",
            "Total training time: 1.05 seconds.\n",
            "-- Epoch 1\n",
            "Norm: 28.74, NNZs: 626, Bias: -2.000000, T: 44111, Avg. loss: 0.039877\n",
            "Total training time: 0.98 seconds.\n",
            "-- Epoch 1\n",
            "Norm: 9.49, NNZs: 75, Bias: -2.000000, T: 44111, Avg. loss: 0.005463\n",
            "Total training time: 0.90 seconds.\n",
            "-- Epoch 1\n",
            "Norm: 9.49, NNZs: 81, Bias: -2.000000, T: 44111, Avg. loss: 0.003378\n",
            "Total training time: 0.93 seconds.\n",
            "-- Epoch 1\n",
            "Norm: 15.23, NNZs: 195, Bias: -2.000000, T: 44111, Avg. loss: 0.009793\n",
            "Total training time: 0.93 seconds.\n",
            "-- Epoch 1\n"
          ]
        },
        {
          "output_type": "stream",
          "name": "stderr",
          "text": [
            "[Parallel(n_jobs=-1)]: Done   9 tasks      | elapsed:    5.1s\n"
          ]
        },
        {
          "output_type": "stream",
          "name": "stdout",
          "text": [
            "Norm: 17.83, NNZs: 210, Bias: -2.000000, T: 44111, Avg. loss: 0.012673\n",
            "Total training time: 0.90 seconds.\n",
            "-- Epoch 1\n",
            "Norm: 62.81, NNZs: 2833, Bias: -1.000000, T: 44111, Avg. loss: 0.151481\n",
            "Total training time: 1.27 seconds.\n",
            "-- Epoch 1\n",
            "Norm: 12.57, NNZs: 99, Bias: -2.000000, T: 44111, Avg. loss: 0.003106\n",
            "Total training time: 0.89 seconds.\n",
            "-- Epoch 1\n",
            "Norm: 42.53, NNZs: 1512, Bias: -3.000000, T: 44111, Avg. loss: 0.098025\n",
            "Total training time: 1.10 seconds.\n",
            "-- Epoch 1\n"
          ]
        },
        {
          "output_type": "stream",
          "name": "stderr",
          "text": [
            "[Parallel(n_jobs=-1)]: Done  14 tasks      | elapsed:    7.6s\n"
          ]
        },
        {
          "output_type": "stream",
          "name": "stdout",
          "text": [
            "Norm: 44.08, NNZs: 1433, Bias: -1.000000, T: 44111, Avg. loss: 0.052708\n",
            "Total training time: 1.04 seconds.\n",
            "-- Epoch 1\n",
            "Norm: 26.21, NNZs: 498, Bias: -1.000000, T: 44111, Avg. loss: 0.016254\n",
            "Total training time: 0.98 seconds.\n",
            "-- Epoch 1\n",
            "Norm: 45.09, NNZs: 1548, Bias: -1.000000, T: 44111, Avg. loss: 0.055270\n",
            "Total training time: 1.06 seconds.\n",
            "-- Epoch 1\n",
            "Norm: 46.94, NNZs: 1583, Bias: -3.000000, T: 44111, Avg. loss: 0.066990\n",
            "Total training time: 1.09 seconds.\n",
            "-- Epoch 1\n",
            "Norm: 13.64, NNZs: 124, Bias: -2.000000, T: 44111, Avg. loss: 0.004466\n",
            "Total training time: 0.91 seconds.\n",
            "-- Epoch 1\n",
            "Norm: 14.97, NNZs: 176, Bias: -2.000000, T: 44111, Avg. loss: 0.006574\n",
            "Total training time: 0.91 seconds.\n",
            "-- Epoch 1\n",
            "Norm: 22.00, NNZs: 328, Bias: -2.000000, T: 44111, Avg. loss: 0.013194\n",
            "Total training time: 0.91 seconds.\n",
            "-- Epoch 1\n",
            "Norm: 25.79, NNZs: 401, Bias: -1.000000, T: 44111, Avg. loss: 0.019360\n",
            "Total training time: 0.91 seconds.\n",
            "Norm: 95.12, NNZs: 5149, Bias: -1.000000, T: 44111, Avg. loss: 0.242774\n",
            "Total training time: 1.31 seconds.\n"
          ]
        },
        {
          "output_type": "stream",
          "name": "stderr",
          "text": [
            "[Parallel(n_jobs=-1)]: Done  23 out of  23 | elapsed:   12.1s remaining:    0.0s\n",
            "[Parallel(n_jobs=-1)]: Done  23 out of  23 | elapsed:   12.1s finished\n"
          ]
        },
        {
          "output_type": "execute_result",
          "data": {
            "text/plain": [
              "Perceptron(max_iter=5, n_jobs=-1, verbose=10)"
            ]
          },
          "metadata": {},
          "execution_count": 58
        }
      ]
    },
    {
      "cell_type": "code",
      "source": [
        "sgd = SGDClassifier()\n",
        "sgd.partial_fit(X_train, y_train, classes)\n",
        "print(classification_report(y_pred=sgd.predict(X_test), y_true=y_test, labels=new_classes))"
      ],
      "metadata": {
        "colab": {
          "base_uri": "https://localhost:8080/"
        },
        "id": "PngKUWPM-J4h",
        "outputId": "2be7bb0c-102c-4212-b6b2-934a7878fc33"
      },
      "execution_count": 61,
      "outputs": [
        {
          "output_type": "stream",
          "name": "stdout",
          "text": [
            "                precision    recall  f1-score   support\n",
            "\n",
            "    B-abstract       0.30      0.15      0.20       798\n",
            "      B-animal       0.44      0.10      0.16        42\n",
            "       B-event       1.00      0.01      0.01       315\n",
            "      B-object       0.20      0.05      0.08       420\n",
            "B-organization       0.32      0.14      0.19       192\n",
            "      B-person       0.39      0.66      0.49       823\n",
            "       B-place       0.37      0.09      0.15       469\n",
            "       B-plant       0.02      0.56      0.04        62\n",
            "    B-quantity       0.27      0.07      0.11        44\n",
            "   B-substance       0.50      0.01      0.02        95\n",
            "        B-time       0.79      0.12      0.21       179\n",
            "    I-abstract       0.50      0.08      0.14      2048\n",
            "      I-animal       0.38      0.35      0.37        43\n",
            "       I-event       0.71      0.03      0.05       934\n",
            "      I-object       0.10      0.64      0.17       782\n",
            "I-organization       0.43      0.19      0.27       278\n",
            "      I-person       0.54      0.15      0.24       685\n",
            "       I-place       0.60      0.15      0.24       926\n",
            "       I-plant       0.60      0.16      0.25        56\n",
            "    I-quantity       0.20      0.05      0.08        77\n",
            "   I-substance       0.76      0.09      0.16       183\n",
            "        I-time       0.52      0.32      0.39       242\n",
            "\n",
            "     micro avg       0.19      0.20      0.20      9693\n",
            "     macro avg       0.45      0.19      0.18      9693\n",
            "  weighted avg       0.47      0.20      0.19      9693\n",
            "\n"
          ]
        }
      ]
    },
    {
      "cell_type": "code",
      "source": [
        "pa =PassiveAggressiveClassifier()\n",
        "pa.partial_fit(X_train, y_train, classes)\n",
        "print(classification_report(y_pred=pa.predict(X_test), y_true=y_test, labels=new_classes))"
      ],
      "metadata": {
        "colab": {
          "base_uri": "https://localhost:8080/"
        },
        "id": "5zBABEj1-RyJ",
        "outputId": "cda7286e-1ccf-4752-c8ec-5dec44ea981c"
      },
      "execution_count": 62,
      "outputs": [
        {
          "output_type": "stream",
          "name": "stdout",
          "text": [
            "                precision    recall  f1-score   support\n",
            "\n",
            "    B-abstract       0.10      0.69      0.17       798\n",
            "      B-animal       0.42      0.12      0.19        42\n",
            "       B-event       0.09      0.18      0.12       315\n",
            "      B-object       0.38      0.03      0.06       420\n",
            "B-organization       0.66      0.11      0.19       192\n",
            "      B-person       0.75      0.47      0.58       823\n",
            "       B-place       0.44      0.09      0.15       469\n",
            "       B-plant       1.00      0.10      0.18        62\n",
            "    B-quantity       0.29      0.05      0.08        44\n",
            "   B-substance       0.21      0.04      0.07        95\n",
            "        B-time       0.70      0.17      0.28       179\n",
            "    I-abstract       0.37      0.26      0.31      2048\n",
            "      I-animal       0.38      0.37      0.38        43\n",
            "       I-event       0.47      0.05      0.09       934\n",
            "      I-object       0.28      0.23      0.25       782\n",
            "I-organization       0.56      0.15      0.24       278\n",
            "      I-person       0.69      0.11      0.18       685\n",
            "       I-place       0.58      0.14      0.23       926\n",
            "       I-plant       0.21      0.46      0.29        56\n",
            "    I-quantity       0.26      0.23      0.25        77\n",
            "   I-substance       0.53      0.30      0.38       183\n",
            "        I-time       0.53      0.26      0.35       242\n",
            "\n",
            "     micro avg       0.23      0.24      0.23      9693\n",
            "     macro avg       0.45      0.21      0.23      9693\n",
            "  weighted avg       0.44      0.24      0.25      9693\n",
            "\n"
          ]
        }
      ]
    },
    {
      "cell_type": "code",
      "source": [
        "nb = MultinomialNB(alpha=0.01)\n",
        "nb.partial_fit(X_train, y_train, classes)\n",
        "print(classification_report(y_pred=nb.predict(X_test), y_true=y_test, labels = new_classes))"
      ],
      "metadata": {
        "colab": {
          "base_uri": "https://localhost:8080/"
        },
        "id": "9_ZEWc4a-V4R",
        "outputId": "a33542df-68c2-4392-93e1-06d5364c4fce"
      },
      "execution_count": 63,
      "outputs": [
        {
          "output_type": "stream",
          "name": "stdout",
          "text": [
            "                precision    recall  f1-score   support\n",
            "\n",
            "    B-abstract       0.22      0.56      0.32       798\n",
            "      B-animal       0.65      0.26      0.37        42\n",
            "       B-event       0.15      0.02      0.04       315\n",
            "      B-object       0.31      0.07      0.11       420\n",
            "B-organization       0.43      0.12      0.19       192\n",
            "      B-person       0.72      0.61      0.66       823\n",
            "       B-place       0.42      0.14      0.22       469\n",
            "       B-plant       0.69      0.15      0.24        62\n",
            "    B-quantity       0.42      0.11      0.18        44\n",
            "   B-substance       0.36      0.04      0.08        95\n",
            "        B-time       0.64      0.20      0.30       179\n",
            "    I-abstract       0.39      0.31      0.34      2048\n",
            "      I-animal       0.50      0.37      0.43        43\n",
            "       I-event       0.34      0.14      0.20       934\n",
            "      I-object       0.43      0.20      0.27       782\n",
            "I-organization       0.39      0.23      0.29       278\n",
            "      I-person       0.50      0.24      0.32       685\n",
            "       I-place       0.47      0.33      0.39       926\n",
            "       I-plant       0.67      0.39      0.49        56\n",
            "    I-quantity       0.48      0.17      0.25        77\n",
            "   I-substance       0.56      0.34      0.42       183\n",
            "        I-time       0.44      0.41      0.42       242\n",
            "\n",
            "     micro avg       0.39      0.29      0.33      9693\n",
            "     macro avg       0.46      0.25      0.30      9693\n",
            "  weighted avg       0.42      0.29      0.32      9693\n",
            "\n"
          ]
        }
      ]
    },
    {
      "cell_type": "markdown",
      "source": [
        "Результаты так себе, примерно 50проц precision, попробуем также учесть соседние слова и позиционные теги"
      ],
      "metadata": {
        "id": "N5M3PRMLbigI"
      }
    },
    {
      "cell_type": "code",
      "source": [
        "import nltk\n",
        "nltk.download('punkt')\n",
        "nltk.download('averaged_perceptron_tagger')\n",
        "postags = nltk.pos_tag([x for x,y in train_sents[0]]) \n",
        "postags"
      ],
      "metadata": {
        "colab": {
          "base_uri": "https://localhost:8080/"
        },
        "id": "bLR5r4Q0IRwk",
        "outputId": "1d9d9ec3-a0d8-4c38-da55-d635def4c23b"
      },
      "execution_count": 7,
      "outputs": [
        {
          "output_type": "stream",
          "name": "stdout",
          "text": [
            "[nltk_data] Downloading package punkt to /root/nltk_data...\n",
            "[nltk_data]   Unzipping tokenizers/punkt.zip.\n",
            "[nltk_data] Downloading package averaged_perceptron_tagger to\n",
            "[nltk_data]     /root/nltk_data...\n",
            "[nltk_data]   Unzipping taggers/averaged_perceptron_tagger.zip.\n"
          ]
        },
        {
          "output_type": "execute_result",
          "data": {
            "text/plain": [
              "[('The', 'DT'),\n",
              " ('back', 'NN'),\n",
              " ('of', 'IN'),\n",
              " ('my', 'PRP$'),\n",
              " ('jersey', 'NN'),\n",
              " ('says', 'VBZ'),\n",
              " ('\"', 'IN'),\n",
              " ('The', 'DT'),\n",
              " ('Poet', 'NNP'),\n",
              " (\"'\", 'POS'),\n",
              " ('because', 'IN'),\n",
              " ('growing', 'VBG'),\n",
              " ('up', 'RP'),\n",
              " ('that', 'DT'),\n",
              " ('was', 'VBD'),\n",
              " ('my', 'PRP$'),\n",
              " ('nickname', 'NN'),\n",
              " ('.', '.')]"
            ]
          },
          "metadata": {},
          "execution_count": 7
        }
      ]
    },
    {
      "cell_type": "code",
      "source": [
        "def word2features(sent, i):\n",
        "    word = sent[i][0]\n",
        "    postag = sent[i][1]\n",
        "    \n",
        "    features = {\n",
        "        'bias': 1.0, \n",
        "        'word.lower()': word.lower(), \n",
        "        'word[-3:]': word[-3:],\n",
        "        'word[-2:]': word[-2:],\n",
        "        'word.isupper()': word.isupper(),\n",
        "        'word.istitle()': word.istitle(),\n",
        "        'word.isdigit()': word.isdigit(),\n",
        "        'postag': postag,\n",
        "        'postag[:2]': postag[:2],\n",
        "    }\n",
        "    if i > 0:\n",
        "        word1 = sent[i-1][0]\n",
        "        postag1 = sent[i-1][1]\n",
        "        features.update({\n",
        "            '-1:word.lower()': word1.lower(),\n",
        "            '-1:word.istitle()': word1.istitle(),\n",
        "            '-1:word.isupper()': word1.isupper(),\n",
        "            '-1:postag': postag1,\n",
        "            '-1:postag[:2]': postag1[:2],\n",
        "        })\n",
        "    else:\n",
        "        features['BOS'] = True\n",
        "    if i < len(sent)-1:\n",
        "        word1 = sent[i+1][0]\n",
        "        postag1 = sent[i+1][1]\n",
        "        features.update({\n",
        "            '+1:word.lower()': word1.lower(),\n",
        "            '+1:word.istitle()': word1.istitle(),\n",
        "            '+1:word.isupper()': word1.isupper(),\n",
        "            '+1:postag': postag1,\n",
        "            '+1:postag[:2]': postag1[:2],\n",
        "        })\n",
        "    else:\n",
        "        features['EOS'] = True\n",
        "    return features\n",
        "def sent2features(sent):\n",
        "    pos_tags = nltk.pos_tag([x for x,y in sent])\n",
        "    return [word2features(pos_tags, i) for i in range(len(pos_tags))]\n",
        "def sent2labels(sent):\n",
        "    return [label for token, label in sent]\n",
        "def sent2tokens(sent):\n",
        "    return [token for token, label in sent]"
      ],
      "metadata": {
        "id": "O0EhaPLTDi0T"
      },
      "execution_count": 8,
      "outputs": []
    },
    {
      "cell_type": "code",
      "source": [
        "X_train = [sent2features(s) for s in train_sents]\n",
        "y_train = [sent2labels(s) for s in train_sents]"
      ],
      "metadata": {
        "id": "MK5B0_cJDp4L"
      },
      "execution_count": 9,
      "outputs": []
    },
    {
      "cell_type": "code",
      "source": [
        "X_test = [sent2features(s) for s in test_sents]\n",
        "y_test = [sent2labels(s) for s in test_sents]"
      ],
      "metadata": {
        "id": "vMP3tV_dEoXT"
      },
      "execution_count": 10,
      "outputs": []
    },
    {
      "cell_type": "code",
      "source": [
        "crf = sklearn_crfsuite.CRF(\n",
        "    algorithm='lbfgs',\n",
        "    c1=0.1,\n",
        "    c2=0.1,\n",
        "    max_iterations=1000,\n",
        "    all_possible_transitions=True\n",
        ")\n",
        "crf.fit(X_train, y_train)"
      ],
      "metadata": {
        "colab": {
          "base_uri": "https://localhost:8080/"
        },
        "id": "22MD8lyQENez",
        "outputId": "92d118e7-f87e-4ece-a984-be51f4db4ada"
      },
      "execution_count": 34,
      "outputs": [
        {
          "output_type": "stream",
          "name": "stderr",
          "text": [
            "/usr/local/lib/python3.7/dist-packages/sklearn/base.py:213: FutureWarning: From version 0.24, get_params will raise an AttributeError if a parameter cannot be retrieved as an instance attribute. Previously it would return None.\n",
            "  FutureWarning)\n"
          ]
        },
        {
          "output_type": "execute_result",
          "data": {
            "text/plain": [
              "CRF(algorithm='lbfgs', all_possible_transitions=True, c1=0.1, c2=0.1,\n",
              "    keep_tempfiles=None, max_iterations=1000)"
            ]
          },
          "metadata": {},
          "execution_count": 34
        }
      ]
    },
    {
      "cell_type": "code",
      "source": [
        "y_pred = crf.predict(X_test)\n",
        "print(metrics.flat_classification_report(y_test, y_pred, labels = classes))"
      ],
      "metadata": {
        "colab": {
          "base_uri": "https://localhost:8080/"
        },
        "id": "4jlfGZ5aEciL",
        "outputId": "195626ad-ba8e-4511-803e-5d3f4df6b1ac"
      },
      "execution_count": 37,
      "outputs": [
        {
          "output_type": "stream",
          "name": "stderr",
          "text": [
            "/usr/local/lib/python3.7/dist-packages/sklearn/utils/validation.py:70: FutureWarning: Pass labels=['B-abstract', 'B-animal', 'B-event', 'B-object', 'B-organization', 'B-person', 'B-place', 'B-plant', 'B-quantity', 'B-substance', 'B-time', 'I-abstract', 'I-animal', 'I-event', 'I-object', 'I-organization', 'I-person', 'I-place', 'I-plant', 'I-quantity', 'I-substance', 'I-time', 'O'] as keyword args. From version 0.25 passing these as positional arguments will result in an error\n",
            "  FutureWarning)\n"
          ]
        },
        {
          "output_type": "stream",
          "name": "stdout",
          "text": [
            "                precision    recall  f1-score   support\n",
            "\n",
            "    B-abstract       0.42      0.43      0.43       798\n",
            "      B-animal       0.62      0.38      0.47        42\n",
            "       B-event       0.33      0.28      0.30       315\n",
            "      B-object       0.47      0.36      0.41       420\n",
            "B-organization       0.55      0.33      0.41       192\n",
            "      B-person       0.74      0.69      0.71       823\n",
            "       B-place       0.53      0.50      0.51       469\n",
            "       B-plant       0.61      0.32      0.42        62\n",
            "    B-quantity       0.35      0.20      0.26        44\n",
            "   B-substance       0.50      0.29      0.37        95\n",
            "        B-time       0.62      0.54      0.58       179\n",
            "    I-abstract       0.43      0.49      0.46      2048\n",
            "      I-animal       0.64      0.33      0.43        43\n",
            "       I-event       0.20      0.37      0.26       934\n",
            "      I-object       0.40      0.31      0.35       782\n",
            "I-organization       0.50      0.31      0.39       278\n",
            "      I-person       0.53      0.53      0.53       685\n",
            "       I-place       0.52      0.54      0.53       926\n",
            "       I-plant       0.59      0.30      0.40        56\n",
            "    I-quantity       0.35      0.22      0.27        77\n",
            "   I-substance       0.57      0.49      0.53       183\n",
            "        I-time       0.48      0.60      0.53       242\n",
            "             O       0.84      0.80      0.82      8543\n",
            "\n",
            "      accuracy                           0.62     18236\n",
            "     macro avg       0.51      0.42      0.45     18236\n",
            "  weighted avg       0.64      0.62      0.63     18236\n",
            "\n"
          ]
        }
      ]
    },
    {
      "cell_type": "markdown",
      "source": [
        "Получили примерно такой же результат, все таки нужно смотреть на все предложение целиком"
      ],
      "metadata": {
        "id": "TL6hCP2ubxGx"
      }
    },
    {
      "cell_type": "markdown",
      "source": [
        "### NN models - LSTM"
      ],
      "metadata": {
        "id": "m-RPCguta42x"
      }
    },
    {
      "cell_type": "code",
      "source": [
        "import tensorflow as tf\n",
        "\n",
        "tokeniser= tf.keras.preprocessing.text.Tokenizer(lower=False,filters='')\n",
        "tokeniser.fit_on_texts([[x[0] for x in s] for s in train_sents + test_sents])"
      ],
      "metadata": {
        "id": "1-ls9_TEHWxD"
      },
      "execution_count": 6,
      "outputs": []
    },
    {
      "cell_type": "code",
      "source": [
        "print(\"Vocab size of Tokeniser \",len(tokeniser.word_index)+1) ## Adding one since 0 is reserved for padding"
      ],
      "metadata": {
        "colab": {
          "base_uri": "https://localhost:8080/"
        },
        "id": "bArfFGg4HfC0",
        "outputId": "cf9a52f6-0650-4439-c8e9-ffb27b8d77c0"
      },
      "execution_count": 7,
      "outputs": [
        {
          "output_type": "stream",
          "name": "stdout",
          "text": [
            "Vocab size of Tokeniser  9787\n"
          ]
        }
      ]
    },
    {
      "cell_type": "code",
      "source": [
        "encoded_sentence_train = tokeniser.texts_to_sequences([[x[0] for x in s] for s in train_sents])\n",
        "encoded_sentence_test = tokeniser.texts_to_sequences([[x[0] for x in s] for s in test_sents])"
      ],
      "metadata": {
        "id": "HXO0fhLZKxqr"
      },
      "execution_count": 8,
      "outputs": []
    },
    {
      "cell_type": "code",
      "source": [
        "words = set(list(df['word'].values))\n",
        "words.add('PAD')\n",
        "n_words = len(words)\n",
        "\n",
        "tags = list(set(df[\"tag\"].values))\n",
        "n_tags = len(tags)\n",
        "n_tags, n_words"
      ],
      "metadata": {
        "colab": {
          "base_uri": "https://localhost:8080/"
        },
        "id": "F0GjqURjkmBD",
        "outputId": "8fce2ddc-c494-4438-b8e9-60507298dd9a"
      },
      "execution_count": 9,
      "outputs": [
        {
          "output_type": "execute_result",
          "data": {
            "text/plain": [
              "(23, 9787)"
            ]
          },
          "metadata": {},
          "execution_count": 9
        }
      ]
    },
    {
      "cell_type": "code",
      "source": [
        "largest_sen = max(len(sen) for sen in encoded_sentence_train + encoded_sentence_test)\n",
        "print('biggest sentence has {} words'.format(largest_sen))"
      ],
      "metadata": {
        "colab": {
          "base_uri": "https://localhost:8080/"
        },
        "id": "Mty7wrwvk6zz",
        "outputId": "8d60f619-06d3-4833-f446-0074e35a4799"
      },
      "execution_count": 10,
      "outputs": [
        {
          "output_type": "stream",
          "name": "stdout",
          "text": [
            "biggest sentence has 95 words\n"
          ]
        }
      ]
    },
    {
      "cell_type": "code",
      "source": [
        "plt.hist([len(sen) for sen in train_sents + test_sents], bins = 50)"
      ],
      "metadata": {
        "colab": {
          "base_uri": "https://localhost:8080/",
          "height": 745
        },
        "id": "JunfLrSRk-nb",
        "outputId": "afd105b8-0ecf-41c8-f8a8-d379bf44fc6e"
      },
      "execution_count": 11,
      "outputs": [
        {
          "output_type": "execute_result",
          "data": {
            "text/plain": [
              "(array([161., 148., 240., 259., 247., 253., 247., 268., 127., 187., 223.,\n",
              "        185., 179., 136., 113., 106.,  56.,  80.,  60.,  39.,  40.,  30.,\n",
              "         17.,  14.,  11.,  12.,  15.,   8.,   6.,   4.,   3.,   3.,   2.,\n",
              "          4.,   2.,   2.,   0.,   1.,   3.,   0.,   0.,   0.,   1.,   0.,\n",
              "          1.,   0.,   0.,   0.,   0.,   2.]),\n",
              " array([ 1.  ,  2.88,  4.76,  6.64,  8.52, 10.4 , 12.28, 14.16, 16.04,\n",
              "        17.92, 19.8 , 21.68, 23.56, 25.44, 27.32, 29.2 , 31.08, 32.96,\n",
              "        34.84, 36.72, 38.6 , 40.48, 42.36, 44.24, 46.12, 48.  , 49.88,\n",
              "        51.76, 53.64, 55.52, 57.4 , 59.28, 61.16, 63.04, 64.92, 66.8 ,\n",
              "        68.68, 70.56, 72.44, 74.32, 76.2 , 78.08, 79.96, 81.84, 83.72,\n",
              "        85.6 , 87.48, 89.36, 91.24, 93.12, 95.  ]),\n",
              " <a list of 50 Patch objects>)"
            ]
          },
          "metadata": {},
          "execution_count": 11
        },
        {
          "output_type": "display_data",
          "data": {
            "image/png": "[encoded data removed]",
            "text/plain": [
              "<Figure size 1152x648 with 1 Axes>"
            ]
          },
          "metadata": {}
        }
      ]
    },
    {
      "cell_type": "markdown",
      "source": [
        "Максимальная длина 95, можно так и взять, без обрезки"
      ],
      "metadata": {
        "id": "VzCFP70icB4x"
      }
    },
    {
      "cell_type": "code",
      "source": [
        "max_len=96\n",
        "from tensorflow.keras.preprocessing.sequence import pad_sequences\n",
        "from tensorflow.keras.utils import to_categorical\n",
        "\n",
        "padded_train =pad_sequences(maxlen=max_len,sequences=encoded_sentence_train,padding=\"post\",value=0)\n",
        "padded_test =pad_sequences(maxlen=max_len,sequences=encoded_sentence_test,padding=\"post\",value=0)\n",
        "padded_train.shape"
      ],
      "metadata": {
        "colab": {
          "base_uri": "https://localhost:8080/"
        },
        "id": "i_0WbE-PLF92",
        "outputId": "0e3d27be-6c1a-4067-bcc0-1e3b71ffb0f9"
      },
      "execution_count": 12,
      "outputs": [
        {
          "output_type": "execute_result",
          "data": {
            "text/plain": [
              "(2495, 96)"
            ]
          },
          "metadata": {},
          "execution_count": 12
        }
      ]
    },
    {
      "cell_type": "code",
      "source": [
        "from keras.preprocessing.sequence import pad_sequences\n",
        "tags2index = {t:i for i,t in enumerate(tags)}\n",
        "index2tags = {i:t for i,t in enumerate(tags)}\n",
        "y_train = [[tags2index[w[1]] for w in s] for s in train_sents]\n",
        "y_train = pad_sequences(maxlen=max_len, sequences=y_train, padding=\"post\", value=tags2index[\"O\"])\n",
        "y_test = [[tags2index[w[1]] for w in s] for s in test_sents]\n",
        "y_test = pad_sequences(maxlen=max_len, sequences=y_test, padding=\"post\", value=tags2index[\"O\"])\n",
        "y_train.shape"
      ],
      "metadata": {
        "colab": {
          "base_uri": "https://localhost:8080/"
        },
        "id": "y0xu9YYAlnrT",
        "outputId": "8a04adf9-5db6-40d3-9cee-9c3fed5c0894"
      },
      "execution_count": 65,
      "outputs": [
        {
          "output_type": "execute_result",
          "data": {
            "text/plain": [
              "(2495, 96)"
            ]
          },
          "metadata": {},
          "execution_count": 65
        }
      ]
    },
    {
      "cell_type": "code",
      "source": [
        "y_train= [to_categorical(i, num_classes = n_tags) for i in y_train]\n",
        "y_test= [to_categorical(i, num_classes = n_tags) for i in y_test]\n",
        "y_train[0].shape"
      ],
      "metadata": {
        "colab": {
          "base_uri": "https://localhost:8080/"
        },
        "id": "XE_EksRRN5O9",
        "outputId": "3de01d70-797f-40bb-a147-39c6b12b15e1"
      },
      "execution_count": 74,
      "outputs": [
        {
          "output_type": "execute_result",
          "data": {
            "text/plain": [
              "(96, 23)"
            ]
          },
          "metadata": {},
          "execution_count": 74
        }
      ]
    },
    {
      "cell_type": "code",
      "source": [
        "from tensorflow.keras import Model,Input\n",
        "from tensorflow.keras.layers import LSTM,Embedding,Dense\n",
        "from tensorflow.keras.layers import TimeDistributed, SpatialDropout1D,Bidirectional\n",
        "\n",
        "embedding_dim=128\n",
        "vocab_size=len(tokeniser.word_index)+1\n",
        "lstm_units=128\n",
        "max_len=96\n",
        "\n",
        "reg = tf.keras.regularizers.L1L2(0.01, 0.005)\n",
        "\n",
        "input_word = Input(shape = (max_len,))\n",
        "model = Embedding(input_dim = vocab_size+1,output_dim = embedding_dim,input_length = max_len)(input_word)\n",
        "\n",
        "model = LSTM(units=embedding_dim,return_sequences=True, bias_regularizer=reg)(model)\n",
        "out = TimeDistributed(Dense(n_tags,activation = 'softmax'))(model)\n",
        "model = Model(input_word,out)\n",
        "model.summary()\n",
        "\n",
        "model.compile(optimizer = 'adam',loss = 'categorical_crossentropy',metrics = ['accuracy'])\n",
        "history = model.fit(padded_train,np.array(y_train),validation_data=(padded_test,np.array(y_test)), batch_size = 128,epochs = 40)"
      ],
      "metadata": {
        "colab": {
          "base_uri": "https://localhost:8080/"
        },
        "id": "YKJXDCPpcSnZ",
        "outputId": "34b7943f-5374-412d-a3ee-90ac13484e34"
      },
      "execution_count": 39,
      "outputs": [
        {
          "output_type": "stream",
          "name": "stdout",
          "text": [
            "Model: \"model_9\"\n",
            "_________________________________________________________________\n",
            " Layer (type)                Output Shape              Param #   \n",
            "=================================================================\n",
            " input_15 (InputLayer)       [(None, 96)]              0         \n",
            "                                                                 \n",
            " embedding_14 (Embedding)    (None, 96, 128)           1252864   \n",
            "                                                                 \n",
            " lstm_21 (LSTM)              (None, 96, 128)           131584    \n",
            "                                                                 \n",
            " time_distributed_9 (TimeDis  (None, 96, 23)           2967      \n",
            " tributed)                                                       \n",
            "                                                                 \n",
            "=================================================================\n",
            "Total params: 1,387,415\n",
            "Trainable params: 1,387,415\n",
            "Non-trainable params: 0\n",
            "_________________________________________________________________\n",
            "Epoch 1/40\n",
            "20/20 [==============================] - 10s 412ms/step - loss: 3.3915 - accuracy: 0.8524 - val_loss: 2.5615 - val_accuracy: 0.8990\n",
            "Epoch 2/40\n",
            "20/20 [==============================] - 8s 387ms/step - loss: 2.4559 - accuracy: 0.9012 - val_loss: 2.4027 - val_accuracy: 0.8989\n",
            "Epoch 3/40\n",
            "20/20 [==============================] - 8s 384ms/step - loss: 2.3410 - accuracy: 0.9010 - val_loss: 2.3131 - val_accuracy: 0.8985\n",
            "Epoch 4/40\n",
            "20/20 [==============================] - 8s 387ms/step - loss: 2.2467 - accuracy: 0.9002 - val_loss: 2.2061 - val_accuracy: 0.8986\n",
            "Epoch 5/40\n",
            "20/20 [==============================] - 8s 393ms/step - loss: 2.1362 - accuracy: 0.9009 - val_loss: 2.1122 - val_accuracy: 0.8988\n",
            "Epoch 6/40\n",
            "20/20 [==============================] - 8s 389ms/step - loss: 2.0560 - accuracy: 0.9013 - val_loss: 2.0405 - val_accuracy: 0.8991\n",
            "Epoch 7/40\n",
            "20/20 [==============================] - 8s 388ms/step - loss: 1.9865 - accuracy: 0.9020 - val_loss: 1.9758 - val_accuracy: 0.8998\n",
            "Epoch 8/40\n",
            "20/20 [==============================] - 8s 387ms/step - loss: 1.9214 - accuracy: 0.9039 - val_loss: 1.9156 - val_accuracy: 0.9015\n",
            "Epoch 9/40\n",
            "20/20 [==============================] - 8s 386ms/step - loss: 1.8599 - accuracy: 0.9059 - val_loss: 1.8600 - val_accuracy: 0.9026\n",
            "Epoch 10/40\n",
            "20/20 [==============================] - 8s 387ms/step - loss: 1.8008 - accuracy: 0.9079 - val_loss: 1.8063 - val_accuracy: 0.9032\n",
            "Epoch 11/40\n",
            "20/20 [==============================] - 8s 385ms/step - loss: 1.7440 - accuracy: 0.9095 - val_loss: 1.7542 - val_accuracy: 0.9035\n",
            "Epoch 12/40\n",
            "20/20 [==============================] - 8s 388ms/step - loss: 1.6895 - accuracy: 0.9106 - val_loss: 1.7067 - val_accuracy: 0.9037\n",
            "Epoch 13/40\n",
            "20/20 [==============================] - 8s 390ms/step - loss: 1.6367 - accuracy: 0.9121 - val_loss: 1.6584 - val_accuracy: 0.9043\n",
            "Epoch 14/40\n",
            "20/20 [==============================] - 8s 388ms/step - loss: 1.5856 - accuracy: 0.9138 - val_loss: 1.6129 - val_accuracy: 0.9047\n",
            "Epoch 15/40\n",
            "20/20 [==============================] - 8s 389ms/step - loss: 1.5360 - accuracy: 0.9155 - val_loss: 1.5687 - val_accuracy: 0.9054\n",
            "Epoch 16/40\n",
            "20/20 [==============================] - 8s 389ms/step - loss: 1.4877 - accuracy: 0.9170 - val_loss: 1.5269 - val_accuracy: 0.9056\n",
            "Epoch 17/40\n",
            "20/20 [==============================] - 8s 386ms/step - loss: 1.4401 - accuracy: 0.9193 - val_loss: 1.4861 - val_accuracy: 0.9044\n",
            "Epoch 18/40\n",
            "20/20 [==============================] - 8s 389ms/step - loss: 1.3936 - accuracy: 0.9211 - val_loss: 1.4455 - val_accuracy: 0.9075\n",
            "Epoch 19/40\n",
            "20/20 [==============================] - 8s 384ms/step - loss: 1.3476 - accuracy: 0.9233 - val_loss: 1.4057 - val_accuracy: 0.9062\n",
            "Epoch 20/40\n",
            "20/20 [==============================] - 8s 389ms/step - loss: 1.3015 - accuracy: 0.9255 - val_loss: 1.3695 - val_accuracy: 0.9074\n",
            "Epoch 21/40\n",
            "20/20 [==============================] - 8s 388ms/step - loss: 1.2551 - accuracy: 0.9287 - val_loss: 1.3312 - val_accuracy: 0.9076\n",
            "Epoch 22/40\n",
            "20/20 [==============================] - 8s 388ms/step - loss: 1.2082 - accuracy: 0.9324 - val_loss: 1.2949 - val_accuracy: 0.9074\n",
            "Epoch 23/40\n",
            "20/20 [==============================] - 8s 385ms/step - loss: 1.1624 - accuracy: 0.9355 - val_loss: 1.2633 - val_accuracy: 0.9094\n",
            "Epoch 24/40\n",
            "20/20 [==============================] - 8s 388ms/step - loss: 1.1172 - accuracy: 0.9391 - val_loss: 1.2242 - val_accuracy: 0.9090\n",
            "Epoch 25/40\n",
            "20/20 [==============================] - 8s 387ms/step - loss: 1.0708 - accuracy: 0.9434 - val_loss: 1.1898 - val_accuracy: 0.9097\n",
            "Epoch 26/40\n",
            "20/20 [==============================] - 8s 389ms/step - loss: 1.0261 - accuracy: 0.9470 - val_loss: 1.1603 - val_accuracy: 0.9097\n",
            "Epoch 27/40\n",
            "20/20 [==============================] - 8s 385ms/step - loss: 0.9810 - accuracy: 0.9507 - val_loss: 1.1264 - val_accuracy: 0.9100\n",
            "Epoch 28/40\n",
            "20/20 [==============================] - 8s 386ms/step - loss: 0.9376 - accuracy: 0.9535 - val_loss: 1.0920 - val_accuracy: 0.9101\n",
            "Epoch 29/40\n",
            "20/20 [==============================] - 8s 386ms/step - loss: 0.8952 - accuracy: 0.9567 - val_loss: 1.0668 - val_accuracy: 0.9111\n",
            "Epoch 30/40\n",
            "20/20 [==============================] - 8s 383ms/step - loss: 0.8533 - accuracy: 0.9590 - val_loss: 1.0378 - val_accuracy: 0.9106\n",
            "Epoch 31/40\n",
            "20/20 [==============================] - 8s 386ms/step - loss: 0.8137 - accuracy: 0.9614 - val_loss: 1.0020 - val_accuracy: 0.9137\n",
            "Epoch 32/40\n",
            "20/20 [==============================] - 8s 389ms/step - loss: 0.7753 - accuracy: 0.9631 - val_loss: 0.9785 - val_accuracy: 0.9122\n",
            "Epoch 33/40\n",
            "20/20 [==============================] - 8s 389ms/step - loss: 0.7370 - accuracy: 0.9657 - val_loss: 0.9538 - val_accuracy: 0.9116\n",
            "Epoch 34/40\n",
            "20/20 [==============================] - 8s 389ms/step - loss: 0.7005 - accuracy: 0.9675 - val_loss: 0.9265 - val_accuracy: 0.9130\n",
            "Epoch 35/40\n",
            "20/20 [==============================] - 8s 388ms/step - loss: 0.6648 - accuracy: 0.9697 - val_loss: 0.9061 - val_accuracy: 0.9115\n",
            "Epoch 36/40\n",
            "20/20 [==============================] - 8s 388ms/step - loss: 0.6304 - accuracy: 0.9710 - val_loss: 0.8856 - val_accuracy: 0.9121\n",
            "Epoch 37/40\n",
            "20/20 [==============================] - 8s 388ms/step - loss: 0.5971 - accuracy: 0.9729 - val_loss: 0.8548 - val_accuracy: 0.9139\n",
            "Epoch 38/40\n",
            "20/20 [==============================] - 8s 385ms/step - loss: 0.5640 - accuracy: 0.9743 - val_loss: 0.8338 - val_accuracy: 0.9128\n",
            "Epoch 39/40\n",
            "20/20 [==============================] - 8s 386ms/step - loss: 0.5311 - accuracy: 0.9762 - val_loss: 0.8124 - val_accuracy: 0.9126\n",
            "Epoch 40/40\n",
            "20/20 [==============================] - 8s 388ms/step - loss: 0.4995 - accuracy: 0.9776 - val_loss: 0.7921 - val_accuracy: 0.9126\n"
          ]
        }
      ]
    },
    {
      "cell_type": "code",
      "source": [
        "history_dict = history.history\n",
        "history_dict.keys()\n",
        "acc = history_dict['accuracy']\n",
        "val_acc = history_dict['val_accuracy']\n",
        "loss = history_dict['loss']\n",
        "val_loss = history_dict['val_loss']\n",
        "\n",
        "epochs = range(1, len(acc) + 1)\n",
        "\n",
        "plt.clf()   # clear figure\n",
        "\n",
        "plt.plot(epochs, acc, 'bo', label='Training acc')\n",
        "plt.plot(epochs, val_acc, 'b', label='Validation acc')\n",
        "plt.plot(epochs, loss, 'ro', label='Training loss')\n",
        "plt.plot(epochs, val_loss, 'r', label='Validation loss')\n",
        "plt.title('Training and validation accuracy')\n",
        "plt.xlabel('Epochs')\n",
        "plt.ylabel('Accuracy')\n",
        "plt.legend()\n",
        "\n",
        "plt.show()"
      ],
      "metadata": {
        "colab": {
          "base_uri": "https://localhost:8080/",
          "height": 567
        },
        "id": "WIgVPI1Xh716",
        "outputId": "0ef45577-5c60-4460-b1e9-ffd14cef2d85"
      },
      "execution_count": 80,
      "outputs": [
        {
          "output_type": "display_data",
          "data": {
            "image/png": "[encoded data removed]",
            "text/plain": [
              "<Figure size 1152x648 with 1 Axes>"
            ]
          },
          "metadata": {}
        }
      ]
    },
    {
      "cell_type": "code",
      "source": [
        "classes = np.unique(df.tag.values)\n",
        "classes = classes.tolist()"
      ],
      "metadata": {
        "colab": {
          "base_uri": "https://localhost:8080/"
        },
        "id": "xhMuQKURcmCJ",
        "outputId": "afa4f821-4cbc-459f-dd45-cc9ea128afc3"
      },
      "execution_count": 46,
      "outputs": [
        {
          "output_type": "execute_result",
          "data": {
            "text/plain": [
              "(96, 23)"
            ]
          },
          "metadata": {},
          "execution_count": 46
        }
      ]
    },
    {
      "cell_type": "code",
      "source": [
        "res = model.predict(padded_test)\n",
        "res[0].shape\n",
        "\n",
        "ans = []\n",
        "anst = []\n",
        "match = 0\n",
        "total = 0\n",
        "for i, sent in enumerate(res):\n",
        "    for j, w in enumerate(sent):\n",
        "        ans.append(index2tags[np.argmax(w)])\n",
        "        anst.append(index2tags[np.argmax(y_test[i][j])])\n",
        "        #print(ans[-1], anst[-1], np.argmax(y_test[i][j]))\n",
        "        total += 1\n",
        "        match += int(ans[-1] == anst[-1])\n",
        "\n",
        "ans = np.array(ans)\n",
        "anst = np.array(anst)\n",
        "ans.shape, anst.shape, match/total\n",
        "\n",
        "print(classification_report(y_pred=ans, y_true=anst, labels=classes))"
      ],
      "metadata": {
        "colab": {
          "base_uri": "https://localhost:8080/"
        },
        "id": "hH80takhfXzp",
        "outputId": "db446e96-4cf8-414c-8db0-201610f2d025"
      },
      "execution_count": 79,
      "outputs": [
        {
          "output_type": "stream",
          "name": "stderr",
          "text": [
            "/usr/local/lib/python3.7/dist-packages/sklearn/metrics/_classification.py:1221: UndefinedMetricWarning: Precision and F-score are ill-defined and being set to 0.0 in labels with no predicted samples. Use `zero_division` parameter to control this behavior.\n",
            "  _warn_prf(average, modifier, msg_start, len(result))\n"
          ]
        },
        {
          "output_type": "stream",
          "name": "stdout",
          "text": [
            "                precision    recall  f1-score   support\n",
            "\n",
            "    B-abstract       0.25      0.32      0.28       798\n",
            "      B-animal       0.00      0.00      0.00        42\n",
            "       B-event       0.11      0.07      0.09       315\n",
            "      B-object       0.18      0.13      0.15       420\n",
            "B-organization       0.00      0.00      0.00       192\n",
            "      B-person       0.65      0.57      0.61       823\n",
            "       B-place       0.22      0.26      0.24       469\n",
            "       B-plant       0.00      0.00      0.00        62\n",
            "    B-quantity       0.00      0.00      0.00        44\n",
            "   B-substance       0.00      0.00      0.00        95\n",
            "        B-time       0.28      0.12      0.17       179\n",
            "    I-abstract       0.37      0.37      0.37      2048\n",
            "      I-animal       0.00      0.00      0.00        43\n",
            "       I-event       0.19      0.29      0.23       934\n",
            "      I-object       0.32      0.25      0.28       782\n",
            "I-organization       0.23      0.21      0.22       278\n",
            "      I-person       0.44      0.32      0.37       685\n",
            "       I-place       0.45      0.44      0.44       926\n",
            "       I-plant       0.55      0.20      0.29        56\n",
            "    I-quantity       0.00      0.00      0.00        77\n",
            "   I-substance       0.25      0.16      0.20       183\n",
            "        I-time       0.24      0.31      0.27       242\n",
            "             O       0.97      0.98      0.98     86307\n",
            "\n",
            "      accuracy                           0.91     96000\n",
            "     macro avg       0.25      0.22      0.23     96000\n",
            "  weighted avg       0.91      0.91      0.91     96000\n",
            "\n"
          ]
        }
      ]
    },
    {
      "cell_type": "markdown",
      "source": [
        "Обычная lstm уже дает хороший результат, но если посмотреть на каждый тег, видно что часть редких тегов просто пропущена, несмотря на регуляризацию моделька переобучается, а хорошая точность достигается за счет тега О."
      ],
      "metadata": {
        "id": "Fw8XfoqFcMkB"
      }
    },
    {
      "cell_type": "code",
      "source": [
        "input_word = Input(shape = (max_len,))\n",
        "x = Embedding(input_dim = vocab_size+1,output_dim = embedding_dim,input_length = max_len)(input_word)\n",
        "\n",
        "reg = tf.keras.regularizers.L1L2(0.001, 0.0005)\n",
        "\n",
        "x = Bidirectional(LSTM(units=64, return_sequences=True,\n",
        "                    recurrent_dropout=0.2, dropout=0.2, bias_regularizer=reg))(x)\n",
        "x_rnn = Bidirectional(LSTM(units=64, return_sequences=True,\n",
        "                        recurrent_dropout=0.2, dropout=0.2, bias_regularizer=reg))(x)\n",
        "x = tf.keras.layers.add([x, x_rnn])  # residual connection to the first biLSTM\n",
        "out = TimeDistributed(Dense(n_tags, activation=\"softmax\"))(x)\n",
        "\n",
        "model = Model(input_word,out)\n",
        "model.summary()\n",
        "\n",
        "model.compile(optimizer = 'adam',loss = 'categorical_crossentropy',metrics = ['accuracy'])\n",
        "history = model.fit(padded_train,np.array(y_train),validation_data=(padded_test,np.array(y_test)), batch_size = 128,epochs = 10)"
      ],
      "metadata": {
        "colab": {
          "base_uri": "https://localhost:8080/"
        },
        "id": "ZWGfhQAfOzF-",
        "outputId": "71fbb884-99a5-477b-c751-696a69d7820f"
      },
      "execution_count": 81,
      "outputs": [
        {
          "output_type": "stream",
          "name": "stdout",
          "text": [
            "Model: \"model_10\"\n",
            "__________________________________________________________________________________________________\n",
            " Layer (type)                   Output Shape         Param #     Connected to                     \n",
            "==================================================================================================\n",
            " input_16 (InputLayer)          [(None, 96)]         0           []                               \n",
            "                                                                                                  \n",
            " embedding_15 (Embedding)       (None, 96, 128)      1252864     ['input_16[0][0]']               \n",
            "                                                                                                  \n",
            " bidirectional_14 (Bidirectiona  (None, 96, 128)     98816       ['embedding_15[0][0]']           \n",
            " l)                                                                                               \n",
            "                                                                                                  \n",
            " bidirectional_15 (Bidirectiona  (None, 96, 128)     98816       ['bidirectional_14[0][0]']       \n",
            " l)                                                                                               \n",
            "                                                                                                  \n",
            " add_2 (Add)                    (None, 96, 128)      0           ['bidirectional_14[0][0]',       \n",
            "                                                                  'bidirectional_15[0][0]']       \n",
            "                                                                                                  \n",
            " time_distributed_10 (TimeDistr  (None, 96, 23)      2967        ['add_2[0][0]']                  \n",
            " ibuted)                                                                                          \n",
            "                                                                                                  \n",
            "==================================================================================================\n",
            "Total params: 1,453,463\n",
            "Trainable params: 1,453,463\n",
            "Non-trainable params: 0\n",
            "__________________________________________________________________________________________________\n",
            "Epoch 1/10\n",
            "20/20 [==============================] - 37s 1s/step - loss: 1.8109 - accuracy: 0.8543 - val_loss: 0.9170 - val_accuracy: 0.8990\n",
            "Epoch 2/10\n",
            "20/20 [==============================] - 26s 1s/step - loss: 0.8324 - accuracy: 0.9013 - val_loss: 0.8064 - val_accuracy: 0.8990\n",
            "Epoch 3/10\n",
            "20/20 [==============================] - 26s 1s/step - loss: 0.7797 - accuracy: 0.9013 - val_loss: 0.7767 - val_accuracy: 0.8990\n",
            "Epoch 4/10\n",
            "20/20 [==============================] - 26s 1s/step - loss: 0.7540 - accuracy: 0.9013 - val_loss: 0.7578 - val_accuracy: 0.8990\n",
            "Epoch 5/10\n",
            "20/20 [==============================] - 26s 1s/step - loss: 0.7365 - accuracy: 0.9013 - val_loss: 0.7439 - val_accuracy: 0.8990\n",
            "Epoch 6/10\n",
            "20/20 [==============================] - 26s 1s/step - loss: 0.7207 - accuracy: 0.9013 - val_loss: 0.7307 - val_accuracy: 0.8990\n",
            "Epoch 7/10\n",
            "20/20 [==============================] - 26s 1s/step - loss: 0.7048 - accuracy: 0.9015 - val_loss: 0.7174 - val_accuracy: 0.8992\n",
            "Epoch 8/10\n",
            "20/20 [==============================] - 26s 1s/step - loss: 0.6882 - accuracy: 0.9022 - val_loss: 0.7036 - val_accuracy: 0.9000\n",
            "Epoch 9/10\n",
            "20/20 [==============================] - 26s 1s/step - loss: 0.6697 - accuracy: 0.9042 - val_loss: 0.6879 - val_accuracy: 0.9012\n",
            "Epoch 10/10\n",
            "20/20 [==============================] - 26s 1s/step - loss: 0.6486 - accuracy: 0.9070 - val_loss: 0.6713 - val_accuracy: 0.9026\n"
          ]
        }
      ]
    },
    {
      "cell_type": "code",
      "source": [
        "history_dict = history.history\n",
        "history_dict.keys()\n",
        "acc = history_dict['accuracy']\n",
        "val_acc = history_dict['val_accuracy']\n",
        "loss = history_dict['loss']\n",
        "val_loss = history_dict['val_loss']\n",
        "\n",
        "epochs = range(1, len(acc) + 1)\n",
        "\n",
        "plt.clf()   # clear figure\n",
        "\n",
        "plt.plot(epochs, acc, 'bo', label='Training acc')\n",
        "plt.plot(epochs, val_acc, 'b', label='Validation acc')\n",
        "plt.plot(epochs, loss, 'ro', label='Training loss')\n",
        "plt.plot(epochs, val_loss, 'r', label='Validation loss')\n",
        "plt.title('Training and validation accuracy')\n",
        "plt.xlabel('Epochs')\n",
        "plt.ylabel('Accuracy')\n",
        "plt.legend()\n",
        "\n",
        "plt.show()"
      ],
      "metadata": {
        "colab": {
          "base_uri": "https://localhost:8080/",
          "height": 567
        },
        "id": "SaubGlCkZtFo",
        "outputId": "5caa0133-7d95-4b49-c849-890c6e1728c7"
      },
      "execution_count": 82,
      "outputs": [
        {
          "output_type": "display_data",
          "data": {
            "image/png": "[encoded data removed]",
            "text/plain": [
              "<Figure size 1152x648 with 1 Axes>"
            ]
          },
          "metadata": {}
        }
      ]
    },
    {
      "cell_type": "code",
      "source": [
        "res = model.predict(padded_test)\n",
        "res[0].shape\n",
        "\n",
        "ans = []\n",
        "anst = []\n",
        "match = 0\n",
        "total = 0\n",
        "for i, sent in enumerate(res):\n",
        "    for j, w in enumerate(sent):\n",
        "        ans.append(index2tags[np.argmax(w)])\n",
        "        anst.append(index2tags[np.argmax(y_test[i][j])])\n",
        "        #print(ans[-1], anst[-1], np.argmax(y_test[i][j]))\n",
        "        total += 1\n",
        "        match += int(ans[-1] == anst[-1])\n",
        "\n",
        "ans = np.array(ans)\n",
        "anst = np.array(anst)\n",
        "ans.shape, anst.shape, match/total\n",
        "\n",
        "print(classification_report(y_pred=ans, y_true=anst, labels=classes))"
      ],
      "metadata": {
        "colab": {
          "base_uri": "https://localhost:8080/"
        },
        "id": "qncb4hIzjVwT",
        "outputId": "6d537fe1-3845-4124-be97-de7bc51c9f04"
      },
      "execution_count": 84,
      "outputs": [
        {
          "output_type": "stream",
          "name": "stderr",
          "text": [
            "/usr/local/lib/python3.7/dist-packages/sklearn/metrics/_classification.py:1221: UndefinedMetricWarning: Precision and F-score are ill-defined and being set to 0.0 in labels with no predicted samples. Use `zero_division` parameter to control this behavior.\n",
            "  _warn_prf(average, modifier, msg_start, len(result))\n"
          ]
        },
        {
          "output_type": "stream",
          "name": "stdout",
          "text": [
            "                precision    recall  f1-score   support\n",
            "\n",
            "    B-abstract       0.00      0.00      0.00       798\n",
            "      B-animal       0.00      0.00      0.00        42\n",
            "       B-event       0.00      0.00      0.00       315\n",
            "      B-object       0.00      0.00      0.00       420\n",
            "B-organization       0.00      0.00      0.00       192\n",
            "      B-person       0.00      0.00      0.00       823\n",
            "       B-place       0.00      0.00      0.00       469\n",
            "       B-plant       0.00      0.00      0.00        62\n",
            "    B-quantity       0.00      0.00      0.00        44\n",
            "   B-substance       0.00      0.00      0.00        95\n",
            "        B-time       0.00      0.00      0.00       179\n",
            "    I-abstract       0.24      0.29      0.26      2048\n",
            "      I-animal       0.00      0.00      0.00        43\n",
            "       I-event       0.18      0.12      0.15       934\n",
            "      I-object       0.00      0.00      0.00       782\n",
            "I-organization       0.00      0.00      0.00       278\n",
            "      I-person       0.18      0.01      0.02       685\n",
            "       I-place       0.00      0.00      0.00       926\n",
            "       I-plant       0.00      0.00      0.00        56\n",
            "    I-quantity       0.00      0.00      0.00        77\n",
            "   I-substance       0.00      0.00      0.00       183\n",
            "        I-time       0.00      0.00      0.00       242\n",
            "             O       0.93      1.00      0.96     86307\n",
            "\n",
            "      accuracy                           0.90     96000\n",
            "     macro avg       0.07      0.06      0.06     96000\n",
            "  weighted avg       0.84      0.90      0.87     96000\n",
            "\n"
          ]
        }
      ]
    },
    {
      "cell_type": "markdown",
      "source": [
        "Bidirectional lstm получился еще хуже и переобучился на тег О"
      ],
      "metadata": {
        "id": "gKDLN9T4wg4H"
      }
    },
    {
      "cell_type": "markdown",
      "source": [
        "### Conclusions\n"
      ],
      "metadata": {
        "id": "6u4Sa3fHwsem"
      }
    },
    {
      "cell_type": "markdown",
      "source": [
        "При использовании нейросетевых подходов нужно как-то учитывать доминирование тега О при обучении модели, возможно поможет кастомный лосс или уменьшение количества О слов у входа"
      ],
      "metadata": {
        "id": "cGL31Mgdwwtm"
      }
    }
  ]
}